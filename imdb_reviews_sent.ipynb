{
  "nbformat": 4,
  "nbformat_minor": 0,
  "metadata": {
    "colab": {
      "provenance": [],
      "authorship_tag": "ABX9TyOwQiqRHG28kcho+gWZfCpJ",
      "include_colab_link": true
    },
    "kernelspec": {
      "name": "python3",
      "display_name": "Python 3"
    },
    "language_info": {
      "name": "python"
    }
  },
  "cells": [
    {
      "cell_type": "markdown",
      "metadata": {
        "id": "view-in-github",
        "colab_type": "text"
      },
      "source": [
        "<a href=\"https://colab.research.google.com/github/lukmanaj/medium-blog-codes/blob/main/imdb_reviews_sent.ipynb\" target=\"_parent\"><img src=\"https://colab.research.google.com/assets/colab-badge.svg\" alt=\"Open In Colab\"/></a>"
      ]
    },
    {
      "cell_type": "code",
      "execution_count": 1,
      "metadata": {
        "colab": {
          "base_uri": "https://localhost:8080/"
        },
        "id": "sizNoz-OXuwc",
        "outputId": "515e9bfb-05bd-4d01-ed49-730c27a4871b"
      },
      "outputs": [
        {
          "output_type": "stream",
          "name": "stderr",
          "text": [
            "[nltk_data] Downloading package movie_reviews to /root/nltk_data...\n",
            "[nltk_data]   Unzipping corpora/movie_reviews.zip.\n"
          ]
        },
        {
          "output_type": "stream",
          "name": "stdout",
          "text": [
            "Accuracy: 0.78\n",
            "Sentiment: neg\n"
          ]
        }
      ],
      "source": [
        "import nltk\n",
        "from nltk.corpus import movie_reviews\n",
        "from nltk.classify import NaiveBayesClassifier\n",
        "from nltk.sentiment import SentimentIntensityAnalyzer\n",
        "\n",
        "# Load the movie reviews dataset\n",
        "nltk.download('movie_reviews')\n",
        "\n",
        "# Prepare the dataset\n",
        "documents = [(list(movie_reviews.words(fileid)), category)\n",
        "             for category in movie_reviews.categories()\n",
        "             for fileid in movie_reviews.fileids(category)]\n",
        "\n",
        "# Feature extraction\n",
        "all_words = nltk.FreqDist(word.lower() for word in movie_reviews.words())\n",
        "word_features = list(all_words)[:2000]\n",
        "\n",
        "def document_features(document):\n",
        "    document_words = set(document)\n",
        "    features = {}\n",
        "    for word in word_features:\n",
        "        features['contains({})'.format(word)] = (word in document_words)\n",
        "    return features\n",
        "\n",
        "# Prepare feature sets\n",
        "featuresets = [(document_features(d), c) for (d, c) in documents]\n",
        "train_set = featuresets[:1500]\n",
        "test_set = featuresets[1500:]\n",
        "\n",
        "# Train the sentiment analysis model (Naive Bayes Classifier)\n",
        "classifier = NaiveBayesClassifier.train(train_set)\n",
        "\n",
        "# Evaluate the model\n",
        "accuracy = nltk.classify.accuracy(classifier, test_set)\n",
        "print(\"Accuracy:\", accuracy)\n",
        "\n",
        "# Perform sentiment analysis on new data\n",
        "new_review = \"The movie was fantastic! I loved every minute of it.\"\n",
        "sentiment = classifier.classify(document_features(new_review.split()))\n",
        "print(\"Sentiment:\", sentiment)\n"
      ]
    },
    {
      "cell_type": "code",
      "source": [
        "import nltk\n",
        "from nltk.corpus import movie_reviews\n",
        "from nltk.classify import SklearnClassifier\n",
        "from sklearn.svm import SVC\n",
        "from sklearn.ensemble import RandomForestClassifier\n",
        "\n",
        "# Load the movie reviews dataset\n",
        "nltk.download('movie_reviews')\n",
        "\n",
        "# Prepare the dataset\n",
        "documents = [(list(movie_reviews.words(fileid)), category)\n",
        "             for category in movie_reviews.categories()\n",
        "             for fileid in movie_reviews.fileids(category)]\n",
        "\n",
        "# Feature extraction\n",
        "all_words = nltk.FreqDist(word.lower() for word in movie_reviews.words())\n",
        "word_features = list(all_words)[:2000]\n",
        "\n",
        "def document_features(document):\n",
        "    document_words = set(document)\n",
        "    features = {}\n",
        "    for word in word_features:\n",
        "        features['contains({})'.format(word)] = (word in document_words)\n",
        "    return features\n",
        "\n",
        "# Prepare feature sets\n",
        "featuresets = [(document_features(d), c) for (d, c) in documents]\n",
        "train_set = featuresets[:1500]\n",
        "test_set = featuresets[1500:]\n",
        "\n",
        "# Train the sentiment analysis model (Support Vector Machines)\n",
        "svm_classifier = SklearnClassifier(SVC())\n",
        "svm_classifier.train(train_set)\n",
        "\n",
        "# Train the sentiment analysis model (Random Forest)\n",
        "rf_classifier = SklearnClassifier(RandomForestClassifier())\n",
        "rf_classifier.train(train_set)\n",
        "\n",
        "# Evaluate the models\n",
        "svm_accuracy = nltk.classify.accuracy(svm_classifier, test_set)\n",
        "rf_accuracy = nltk.classify.accuracy(rf_classifier, test_set)\n",
        "\n",
        "print(\"Support Vector Machines Accuracy:\", svm_accuracy)\n",
        "print(\"Random Forest Accuracy:\", rf_accuracy)\n",
        "\n",
        "# Perform sentiment analysis on new data\n",
        "new_review = \"The movie was fantastic! I loved every minute of it.\"\n",
        "\n",
        "svm_sentiment = svm_classifier.classify(document_features(new_review.split()))\n",
        "rf_sentiment = rf_classifier.classify(document_features(new_review.split()))\n",
        "\n",
        "print(\"Support Vector Machines Sentiment:\", svm_sentiment)\n",
        "print(\"Random Forest Sentiment:\", rf_sentiment)\n"
      ],
      "metadata": {
        "colab": {
          "base_uri": "https://localhost:8080/"
        },
        "id": "du-_zS_2Y1L6",
        "outputId": "08c79dd4-c733-4971-8394-cf448f5b0626"
      },
      "execution_count": 2,
      "outputs": [
        {
          "output_type": "stream",
          "name": "stderr",
          "text": [
            "[nltk_data] Downloading package movie_reviews to /root/nltk_data...\n",
            "[nltk_data]   Package movie_reviews is already up-to-date!\n"
          ]
        },
        {
          "output_type": "stream",
          "name": "stdout",
          "text": [
            "Support Vector Machines Accuracy: 0.616\n",
            "Random Forest Accuracy: 0.23\n",
            "Support Vector Machines Sentiment: neg\n",
            "Random Forest Sentiment: neg\n"
          ]
        }
      ]
    },
    {
      "cell_type": "code",
      "source": [
        "import nltk\n",
        "import pandas as pd\n",
        "from nltk.sentiment import SentimentIntensityAnalyzer\n",
        "from nltk.corpus import movie_reviews\n",
        "nltk.download(\"vader_lexicon\")\n",
        "from sklearn.metrics import classification_report\n",
        "# Initialize the SentimentIntensityAnalyzer\n",
        "sid = SentimentIntensityAnalyzer()\n",
        "\n",
        "# Load the IMDb Movie Reviews dataset\n",
        "reviews = []\n",
        "for category in movie_reviews.categories():\n",
        "    for fileid in movie_reviews.fileids(category):\n",
        "        review = movie_reviews.raw(fileid)\n",
        "        sentiment = 'positive' if category == 'pos' else 'negative'\n",
        "        reviews.append((review, sentiment))\n",
        "\n",
        "# Perform sentiment analysis on the movie reviews\n",
        "sentiments = []\n",
        "for review, sentiment in reviews:\n",
        "    sentiment_scores = sid.polarity_scores(review)\n",
        "\n",
        "    # Extract the compound score, which represents the overall sentiment\n",
        "    compound_score = sentiment_scores['compound']\n",
        "\n",
        "    if compound_score >= 0.05:\n",
        "        predicted_sentiment = \"positive\"\n",
        "    elif compound_score <= -0.05:\n",
        "        predicted_sentiment = \"negative\"\n",
        "    else:\n",
        "        predicted_sentiment = \"neutral\"\n",
        "\n",
        "    sentiments.append((review, sentiment, predicted_sentiment))\n",
        "\n",
        "# Convert sentiments to a DataFrame for easier analysis\n",
        "df = pd.DataFrame(sentiments, columns=['Review', 'Actual Sentiment', 'Predicted Sentiment'])\n",
        "\n",
        "# Print a sample of the results\n",
        "df.head()\n"
      ],
      "metadata": {
        "colab": {
          "base_uri": "https://localhost:8080/",
          "height": 242
        },
        "id": "LaA9zqg8a1J1",
        "outputId": "6dc5fd7a-54e2-4a34-b593-999ea59b1ccc"
      },
      "execution_count": 7,
      "outputs": [
        {
          "output_type": "stream",
          "name": "stderr",
          "text": [
            "[nltk_data] Downloading package vader_lexicon to /root/nltk_data...\n",
            "[nltk_data]   Package vader_lexicon is already up-to-date!\n"
          ]
        },
        {
          "output_type": "execute_result",
          "data": {
            "text/plain": [
              "                                              Review Actual Sentiment  \\\n",
              "0  plot : two teen couples go to a church party ,...         negative   \n",
              "1  the happy bastard's quick movie review \\ndamn ...         negative   \n",
              "2  it is movies like these that make a jaded movi...         negative   \n",
              "3   \" quest for camelot \" is warner bros . ' firs...         negative   \n",
              "4  synopsis : a mentally unstable man undergoing ...         negative   \n",
              "\n",
              "  Predicted Sentiment  \n",
              "0            positive  \n",
              "1            positive  \n",
              "2            positive  \n",
              "3            negative  \n",
              "4            positive  "
            ],
            "text/html": [
              "\n",
              "  <div id=\"df-068cb715-c0bf-4333-ac82-8e5a272b687d\">\n",
              "    <div class=\"colab-df-container\">\n",
              "      <div>\n",
              "<style scoped>\n",
              "    .dataframe tbody tr th:only-of-type {\n",
              "        vertical-align: middle;\n",
              "    }\n",
              "\n",
              "    .dataframe tbody tr th {\n",
              "        vertical-align: top;\n",
              "    }\n",
              "\n",
              "    .dataframe thead th {\n",
              "        text-align: right;\n",
              "    }\n",
              "</style>\n",
              "<table border=\"1\" class=\"dataframe\">\n",
              "  <thead>\n",
              "    <tr style=\"text-align: right;\">\n",
              "      <th></th>\n",
              "      <th>Review</th>\n",
              "      <th>Actual Sentiment</th>\n",
              "      <th>Predicted Sentiment</th>\n",
              "    </tr>\n",
              "  </thead>\n",
              "  <tbody>\n",
              "    <tr>\n",
              "      <th>0</th>\n",
              "      <td>plot : two teen couples go to a church party ,...</td>\n",
              "      <td>negative</td>\n",
              "      <td>positive</td>\n",
              "    </tr>\n",
              "    <tr>\n",
              "      <th>1</th>\n",
              "      <td>the happy bastard's quick movie review \\ndamn ...</td>\n",
              "      <td>negative</td>\n",
              "      <td>positive</td>\n",
              "    </tr>\n",
              "    <tr>\n",
              "      <th>2</th>\n",
              "      <td>it is movies like these that make a jaded movi...</td>\n",
              "      <td>negative</td>\n",
              "      <td>positive</td>\n",
              "    </tr>\n",
              "    <tr>\n",
              "      <th>3</th>\n",
              "      <td>\" quest for camelot \" is warner bros . ' firs...</td>\n",
              "      <td>negative</td>\n",
              "      <td>negative</td>\n",
              "    </tr>\n",
              "    <tr>\n",
              "      <th>4</th>\n",
              "      <td>synopsis : a mentally unstable man undergoing ...</td>\n",
              "      <td>negative</td>\n",
              "      <td>positive</td>\n",
              "    </tr>\n",
              "  </tbody>\n",
              "</table>\n",
              "</div>\n",
              "      <button class=\"colab-df-convert\" onclick=\"convertToInteractive('df-068cb715-c0bf-4333-ac82-8e5a272b687d')\"\n",
              "              title=\"Convert this dataframe to an interactive table.\"\n",
              "              style=\"display:none;\">\n",
              "        \n",
              "  <svg xmlns=\"http://www.w3.org/2000/svg\" height=\"24px\"viewBox=\"0 0 24 24\"\n",
              "       width=\"24px\">\n",
              "    <path d=\"M0 0h24v24H0V0z\" fill=\"none\"/>\n",
              "    <path d=\"M18.56 5.44l.94 2.06.94-2.06 2.06-.94-2.06-.94-.94-2.06-.94 2.06-2.06.94zm-11 1L8.5 8.5l.94-2.06 2.06-.94-2.06-.94L8.5 2.5l-.94 2.06-2.06.94zm10 10l.94 2.06.94-2.06 2.06-.94-2.06-.94-.94-2.06-.94 2.06-2.06.94z\"/><path d=\"M17.41 7.96l-1.37-1.37c-.4-.4-.92-.59-1.43-.59-.52 0-1.04.2-1.43.59L10.3 9.45l-7.72 7.72c-.78.78-.78 2.05 0 2.83L4 21.41c.39.39.9.59 1.41.59.51 0 1.02-.2 1.41-.59l7.78-7.78 2.81-2.81c.8-.78.8-2.07 0-2.86zM5.41 20L4 18.59l7.72-7.72 1.47 1.35L5.41 20z\"/>\n",
              "  </svg>\n",
              "      </button>\n",
              "      \n",
              "  <style>\n",
              "    .colab-df-container {\n",
              "      display:flex;\n",
              "      flex-wrap:wrap;\n",
              "      gap: 12px;\n",
              "    }\n",
              "\n",
              "    .colab-df-convert {\n",
              "      background-color: #E8F0FE;\n",
              "      border: none;\n",
              "      border-radius: 50%;\n",
              "      cursor: pointer;\n",
              "      display: none;\n",
              "      fill: #1967D2;\n",
              "      height: 32px;\n",
              "      padding: 0 0 0 0;\n",
              "      width: 32px;\n",
              "    }\n",
              "\n",
              "    .colab-df-convert:hover {\n",
              "      background-color: #E2EBFA;\n",
              "      box-shadow: 0px 1px 2px rgba(60, 64, 67, 0.3), 0px 1px 3px 1px rgba(60, 64, 67, 0.15);\n",
              "      fill: #174EA6;\n",
              "    }\n",
              "\n",
              "    [theme=dark] .colab-df-convert {\n",
              "      background-color: #3B4455;\n",
              "      fill: #D2E3FC;\n",
              "    }\n",
              "\n",
              "    [theme=dark] .colab-df-convert:hover {\n",
              "      background-color: #434B5C;\n",
              "      box-shadow: 0px 1px 3px 1px rgba(0, 0, 0, 0.15);\n",
              "      filter: drop-shadow(0px 1px 2px rgba(0, 0, 0, 0.3));\n",
              "      fill: #FFFFFF;\n",
              "    }\n",
              "  </style>\n",
              "\n",
              "      <script>\n",
              "        const buttonEl =\n",
              "          document.querySelector('#df-068cb715-c0bf-4333-ac82-8e5a272b687d button.colab-df-convert');\n",
              "        buttonEl.style.display =\n",
              "          google.colab.kernel.accessAllowed ? 'block' : 'none';\n",
              "\n",
              "        async function convertToInteractive(key) {\n",
              "          const element = document.querySelector('#df-068cb715-c0bf-4333-ac82-8e5a272b687d');\n",
              "          const dataTable =\n",
              "            await google.colab.kernel.invokeFunction('convertToInteractive',\n",
              "                                                     [key], {});\n",
              "          if (!dataTable) return;\n",
              "\n",
              "          const docLinkHtml = 'Like what you see? Visit the ' +\n",
              "            '<a target=\"_blank\" href=https://colab.research.google.com/notebooks/data_table.ipynb>data table notebook</a>'\n",
              "            + ' to learn more about interactive tables.';\n",
              "          element.innerHTML = '';\n",
              "          dataTable['output_type'] = 'display_data';\n",
              "          await google.colab.output.renderOutput(dataTable, element);\n",
              "          const docLink = document.createElement('div');\n",
              "          docLink.innerHTML = docLinkHtml;\n",
              "          element.appendChild(docLink);\n",
              "        }\n",
              "      </script>\n",
              "    </div>\n",
              "  </div>\n",
              "  "
            ]
          },
          "metadata": {},
          "execution_count": 7
        }
      ]
    },
    {
      "cell_type": "code",
      "source": [
        "# Filter out the neutral class from the data\n",
        "filtered_df = df[df['Predicted Sentiment'] != 'neutral']\n",
        "\n",
        "# Convert the actual and predicted sentiments to lists\n",
        "actual_sentiments = filtered_df['Actual Sentiment'].tolist()\n",
        "predicted_sentiments = filtered_df['Predicted Sentiment'].tolist()\n",
        "\n",
        "# Generate the classification report\n",
        "report = classification_report(actual_sentiments, predicted_sentiments)\n",
        "\n",
        "# Print the classification report\n",
        "print(report)"
      ],
      "metadata": {
        "colab": {
          "base_uri": "https://localhost:8080/"
        },
        "id": "LnVISkv-bWxI",
        "outputId": "db7dce24-c3e3-4bd5-806c-3a493efbd3c1"
      },
      "execution_count": 8,
      "outputs": [
        {
          "output_type": "stream",
          "name": "stdout",
          "text": [
            "              precision    recall  f1-score   support\n",
            "\n",
            "    negative       0.72      0.44      0.55      1000\n",
            "    positive       0.60      0.83      0.69       999\n",
            "\n",
            "    accuracy                           0.64      1999\n",
            "   macro avg       0.66      0.64      0.62      1999\n",
            "weighted avg       0.66      0.64      0.62      1999\n",
            "\n"
          ]
        }
      ]
    }
  ]
}